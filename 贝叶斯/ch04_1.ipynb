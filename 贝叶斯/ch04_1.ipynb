{
 "cells": [
  {
   "cell_type": "code",
   "execution_count": 2,
   "metadata": {
    "collapsed": false
   },
   "outputs": [],
   "source": [
    "import bayes"
   ]
  },
  {
   "cell_type": "code",
   "execution_count": 3,
   "metadata": {
    "collapsed": true
   },
   "outputs": [],
   "source": [
    "listOPost, listClasses = bayes.loadDataSet()"
   ]
  },
  {
   "cell_type": "code",
   "execution_count": 4,
   "metadata": {
    "collapsed": false
   },
   "outputs": [
    {
     "data": {
      "text/plain": [
       "[['my', 'dog', 'has', 'flea', 'problems', 'help', 'please'],\n",
       " ['maybe', 'not', 'take', 'him', 'to', 'dog', 'park', 'stupid'],\n",
       " ['my', 'dalmation', 'is', 'so', 'cute', 'I', 'love', 'him'],\n",
       " ['stop', 'posting', 'stupid', 'worthless', 'garbage'],\n",
       " ['mr', 'licks', 'ate', 'my', 'steak', 'how', 'to', 'stop', 'him'],\n",
       " ['quit', 'buying', 'worthless', 'dog', 'food', 'stupid']]"
      ]
     },
     "execution_count": 4,
     "metadata": {},
     "output_type": "execute_result"
    }
   ],
   "source": [
    "listOPost"
   ]
  },
  {
   "cell_type": "code",
   "execution_count": 5,
   "metadata": {
    "collapsed": false
   },
   "outputs": [
    {
     "data": {
      "text/plain": [
       "[0, 1, 0, 1, 0, 1]"
      ]
     },
     "execution_count": 5,
     "metadata": {},
     "output_type": "execute_result"
    }
   ],
   "source": [
    "listClasses"
   ]
  },
  {
   "cell_type": "code",
   "execution_count": 6,
   "metadata": {
    "collapsed": true
   },
   "outputs": [],
   "source": [
    "myVocabList = bayes.createVocabList(listOPost)"
   ]
  },
  {
   "cell_type": "code",
   "execution_count": 7,
   "metadata": {
    "collapsed": false
   },
   "outputs": [
    {
     "data": {
      "text/plain": [
       "['cute',\n",
       " 'love',\n",
       " 'help',\n",
       " 'garbage',\n",
       " 'quit',\n",
       " 'I',\n",
       " 'problems',\n",
       " 'is',\n",
       " 'park',\n",
       " 'stop',\n",
       " 'flea',\n",
       " 'dalmation',\n",
       " 'licks',\n",
       " 'food',\n",
       " 'not',\n",
       " 'him',\n",
       " 'buying',\n",
       " 'posting',\n",
       " 'has',\n",
       " 'worthless',\n",
       " 'ate',\n",
       " 'to',\n",
       " 'maybe',\n",
       " 'please',\n",
       " 'dog',\n",
       " 'how',\n",
       " 'stupid',\n",
       " 'so',\n",
       " 'take',\n",
       " 'mr',\n",
       " 'steak',\n",
       " 'my']"
      ]
     },
     "execution_count": 7,
     "metadata": {},
     "output_type": "execute_result"
    }
   ],
   "source": [
    "myVocabList"
   ]
  },
  {
   "cell_type": "code",
   "execution_count": 8,
   "metadata": {
    "collapsed": false
   },
   "outputs": [
    {
     "data": {
      "text/plain": [
       "[0,\n",
       " 0,\n",
       " 1,\n",
       " 0,\n",
       " 0,\n",
       " 0,\n",
       " 1,\n",
       " 0,\n",
       " 0,\n",
       " 0,\n",
       " 1,\n",
       " 0,\n",
       " 0,\n",
       " 0,\n",
       " 0,\n",
       " 0,\n",
       " 0,\n",
       " 0,\n",
       " 1,\n",
       " 0,\n",
       " 0,\n",
       " 0,\n",
       " 0,\n",
       " 1,\n",
       " 1,\n",
       " 0,\n",
       " 0,\n",
       " 0,\n",
       " 0,\n",
       " 0,\n",
       " 0,\n",
       " 1]"
      ]
     },
     "execution_count": 8,
     "metadata": {},
     "output_type": "execute_result"
    }
   ],
   "source": [
    "bayes.setOfWords2Vec(myVocabList, listOPost[0])"
   ]
  },
  {
   "cell_type": "code",
   "execution_count": 9,
   "metadata": {
    "collapsed": false
   },
   "outputs": [
    {
     "data": {
      "text/plain": [
       "[0,\n",
       " 0,\n",
       " 0,\n",
       " 1,\n",
       " 0,\n",
       " 0,\n",
       " 0,\n",
       " 0,\n",
       " 0,\n",
       " 1,\n",
       " 0,\n",
       " 0,\n",
       " 0,\n",
       " 0,\n",
       " 0,\n",
       " 0,\n",
       " 0,\n",
       " 1,\n",
       " 0,\n",
       " 1,\n",
       " 0,\n",
       " 0,\n",
       " 0,\n",
       " 0,\n",
       " 0,\n",
       " 0,\n",
       " 1,\n",
       " 0,\n",
       " 0,\n",
       " 0,\n",
       " 0,\n",
       " 0]"
      ]
     },
     "execution_count": 9,
     "metadata": {},
     "output_type": "execute_result"
    }
   ],
   "source": [
    "bayes.setOfWords2Vec(myVocabList, listOPost[3])"
   ]
  },
  {
   "cell_type": "code",
   "execution_count": 10,
   "metadata": {
    "collapsed": true
   },
   "outputs": [],
   "source": [
    "import numpy as np"
   ]
  },
  {
   "cell_type": "code",
   "execution_count": 26,
   "metadata": {
    "collapsed": false
   },
   "outputs": [
    {
     "data": {
      "text/plain": [
       "<module 'bayes' from 'bayes.py'>"
      ]
     },
     "execution_count": 26,
     "metadata": {},
     "output_type": "execute_result"
    }
   ],
   "source": [
    "reload(bayes)"
   ]
  },
  {
   "cell_type": "code",
   "execution_count": 27,
   "metadata": {
    "collapsed": true
   },
   "outputs": [],
   "source": [
    "listOPosts, listClasses = bayes.loadDataSet()"
   ]
  },
  {
   "cell_type": "code",
   "execution_count": 28,
   "metadata": {
    "collapsed": true
   },
   "outputs": [],
   "source": [
    "myVocabList = bayes.createVocabList(listOPosts)"
   ]
  },
  {
   "cell_type": "code",
   "execution_count": 29,
   "metadata": {
    "collapsed": true
   },
   "outputs": [],
   "source": [
    "trainMat = []\n",
    "for postinDoc in listOPosts:\n",
    "    trainMat.append(bayes.setOfWords2Vec(myVocabList, postinDoc))"
   ]
  },
  {
   "cell_type": "code",
   "execution_count": 17,
   "metadata": {
    "collapsed": false
   },
   "outputs": [],
   "source": [
    "p0V, p1V, pAb = bayes.trainNB0(trainMat, listClasses)"
   ]
  },
  {
   "cell_type": "code",
   "execution_count": 18,
   "metadata": {
    "collapsed": false
   },
   "outputs": [
    {
     "data": {
      "text/plain": [
       "0.5"
      ]
     },
     "execution_count": 18,
     "metadata": {},
     "output_type": "execute_result"
    }
   ],
   "source": [
    "pAb"
   ]
  },
  {
   "cell_type": "code",
   "execution_count": 19,
   "metadata": {
    "collapsed": false
   },
   "outputs": [
    {
     "data": {
      "text/plain": [
       "array([ 0.04166667,  0.04166667,  0.04166667,  0.        ,  0.        ,\n",
       "        0.04166667,  0.04166667,  0.04166667,  0.        ,  0.04166667,\n",
       "        0.04166667,  0.04166667,  0.04166667,  0.        ,  0.        ,\n",
       "        0.08333333,  0.        ,  0.        ,  0.04166667,  0.        ,\n",
       "        0.04166667,  0.04166667,  0.        ,  0.04166667,  0.04166667,\n",
       "        0.04166667,  0.        ,  0.04166667,  0.        ,  0.04166667,\n",
       "        0.04166667,  0.125     ])"
      ]
     },
     "execution_count": 19,
     "metadata": {},
     "output_type": "execute_result"
    }
   ],
   "source": [
    "p0V"
   ]
  },
  {
   "cell_type": "code",
   "execution_count": 20,
   "metadata": {
    "collapsed": false
   },
   "outputs": [
    {
     "data": {
      "text/plain": [
       "array([ 0.        ,  0.        ,  0.        ,  0.05263158,  0.05263158,\n",
       "        0.        ,  0.        ,  0.        ,  0.05263158,  0.05263158,\n",
       "        0.        ,  0.        ,  0.        ,  0.05263158,  0.05263158,\n",
       "        0.05263158,  0.05263158,  0.05263158,  0.        ,  0.10526316,\n",
       "        0.        ,  0.05263158,  0.05263158,  0.        ,  0.10526316,\n",
       "        0.        ,  0.15789474,  0.        ,  0.05263158,  0.        ,\n",
       "        0.        ,  0.        ])"
      ]
     },
     "execution_count": 20,
     "metadata": {},
     "output_type": "execute_result"
    }
   ],
   "source": [
    "p1V"
   ]
  },
  {
   "cell_type": "code",
   "execution_count": 42,
   "metadata": {
    "collapsed": false
   },
   "outputs": [
    {
     "data": {
      "text/plain": [
       "<module 'bayes' from 'bayes.py'>"
      ]
     },
     "execution_count": 42,
     "metadata": {},
     "output_type": "execute_result"
    }
   ],
   "source": [
    "reload(bayes)"
   ]
  },
  {
   "cell_type": "code",
   "execution_count": 43,
   "metadata": {
    "collapsed": false
   },
   "outputs": [
    {
     "name": "stdout",
     "output_type": "stream",
     "text": [
      "['love', 'my', 'dalmation'] classified as:  0\n",
      "['stupid', 'garbage'] classified as:  1\n"
     ]
    }
   ],
   "source": [
    "bayes.testingNB()"
   ]
  },
  {
   "cell_type": "code",
   "execution_count": 44,
   "metadata": {
    "collapsed": true
   },
   "outputs": [],
   "source": [
    "emailText = open('email/ham/6.txt').read()"
   ]
  },
  {
   "cell_type": "code",
   "execution_count": 45,
   "metadata": {
    "collapsed": false
   },
   "outputs": [
    {
     "data": {
      "text/plain": [
       "'Hello,\\n\\nSince you are an owner of at least one Google Groups group that uses the customized welcome message, pages or files, we are writing to inform you that we will no longer be supporting these features starting February 2011. We made this decision so that we can focus on improving the core functionalities of Google Groups -- mailing lists and forum discussions.  Instead of these features, we encourage you to use products that are designed specifically for file storage and page creation, such as Google Docs and Google Sites.\\n\\nFor example, you can easily create your pages on Google Sites and share the site (http://www.google.com/support/sites/bin/answer.py?hl=en&answer=174623) with the members of your group. You can also store your files on the site by attaching files to pages (http://www.google.com/support/sites/bin/answer.py?hl=en&answer=90563) on the site. If you\\x92re just looking for a place to upload your files so that your group members can download them, we suggest you try Google Docs. You can upload files (http://docs.google.com/support/bin/answer.py?hl=en&answer=50092) and share access with either a group (http://docs.google.com/support/bin/answer.py?hl=en&answer=66343) or an individual (http://docs.google.com/support/bin/answer.py?hl=en&answer=86152), assigning either edit or download only access to the files.\\n\\nyou have received this mandatory email service announcement to update you about important changes to Google Groups.'"
      ]
     },
     "execution_count": 45,
     "metadata": {},
     "output_type": "execute_result"
    }
   ],
   "source": [
    "emailText"
   ]
  },
  {
   "cell_type": "code",
   "execution_count": 46,
   "metadata": {
    "collapsed": true
   },
   "outputs": [],
   "source": [
    "import re"
   ]
  },
  {
   "cell_type": "code",
   "execution_count": 47,
   "metadata": {
    "collapsed": true
   },
   "outputs": [],
   "source": [
    "regEx = re.compile('\\\\W*')"
   ]
  },
  {
   "cell_type": "code",
   "execution_count": 48,
   "metadata": {
    "collapsed": true
   },
   "outputs": [],
   "source": [
    "listOfTokens = regEx.split(emailText)"
   ]
  },
  {
   "cell_type": "code",
   "execution_count": 49,
   "metadata": {
    "collapsed": false
   },
   "outputs": [
    {
     "data": {
      "text/plain": [
       "['Hello',\n",
       " 'Since',\n",
       " 'you',\n",
       " 'are',\n",
       " 'an',\n",
       " 'owner',\n",
       " 'of',\n",
       " 'at',\n",
       " 'least',\n",
       " 'one',\n",
       " 'Google',\n",
       " 'Groups',\n",
       " 'group',\n",
       " 'that',\n",
       " 'uses',\n",
       " 'the',\n",
       " 'customized',\n",
       " 'welcome',\n",
       " 'message',\n",
       " 'pages',\n",
       " 'or',\n",
       " 'files',\n",
       " 'we',\n",
       " 'are',\n",
       " 'writing',\n",
       " 'to',\n",
       " 'inform',\n",
       " 'you',\n",
       " 'that',\n",
       " 'we',\n",
       " 'will',\n",
       " 'no',\n",
       " 'longer',\n",
       " 'be',\n",
       " 'supporting',\n",
       " 'these',\n",
       " 'features',\n",
       " 'starting',\n",
       " 'February',\n",
       " '2011',\n",
       " 'We',\n",
       " 'made',\n",
       " 'this',\n",
       " 'decision',\n",
       " 'so',\n",
       " 'that',\n",
       " 'we',\n",
       " 'can',\n",
       " 'focus',\n",
       " 'on',\n",
       " 'improving',\n",
       " 'the',\n",
       " 'core',\n",
       " 'functionalities',\n",
       " 'of',\n",
       " 'Google',\n",
       " 'Groups',\n",
       " 'mailing',\n",
       " 'lists',\n",
       " 'and',\n",
       " 'forum',\n",
       " 'discussions',\n",
       " 'Instead',\n",
       " 'of',\n",
       " 'these',\n",
       " 'features',\n",
       " 'we',\n",
       " 'encourage',\n",
       " 'you',\n",
       " 'to',\n",
       " 'use',\n",
       " 'products',\n",
       " 'that',\n",
       " 'are',\n",
       " 'designed',\n",
       " 'specifically',\n",
       " 'for',\n",
       " 'file',\n",
       " 'storage',\n",
       " 'and',\n",
       " 'page',\n",
       " 'creation',\n",
       " 'such',\n",
       " 'as',\n",
       " 'Google',\n",
       " 'Docs',\n",
       " 'and',\n",
       " 'Google',\n",
       " 'Sites',\n",
       " 'For',\n",
       " 'example',\n",
       " 'you',\n",
       " 'can',\n",
       " 'easily',\n",
       " 'create',\n",
       " 'your',\n",
       " 'pages',\n",
       " 'on',\n",
       " 'Google',\n",
       " 'Sites',\n",
       " 'and',\n",
       " 'share',\n",
       " 'the',\n",
       " 'site',\n",
       " 'http',\n",
       " 'www',\n",
       " 'google',\n",
       " 'com',\n",
       " 'support',\n",
       " 'sites',\n",
       " 'bin',\n",
       " 'answer',\n",
       " 'py',\n",
       " 'hl',\n",
       " 'en',\n",
       " 'answer',\n",
       " '174623',\n",
       " 'with',\n",
       " 'the',\n",
       " 'members',\n",
       " 'of',\n",
       " 'your',\n",
       " 'group',\n",
       " 'You',\n",
       " 'can',\n",
       " 'also',\n",
       " 'store',\n",
       " 'your',\n",
       " 'files',\n",
       " 'on',\n",
       " 'the',\n",
       " 'site',\n",
       " 'by',\n",
       " 'attaching',\n",
       " 'files',\n",
       " 'to',\n",
       " 'pages',\n",
       " 'http',\n",
       " 'www',\n",
       " 'google',\n",
       " 'com',\n",
       " 'support',\n",
       " 'sites',\n",
       " 'bin',\n",
       " 'answer',\n",
       " 'py',\n",
       " 'hl',\n",
       " 'en',\n",
       " 'answer',\n",
       " '90563',\n",
       " 'on',\n",
       " 'the',\n",
       " 'site',\n",
       " 'If',\n",
       " 'you',\n",
       " 're',\n",
       " 'just',\n",
       " 'looking',\n",
       " 'for',\n",
       " 'a',\n",
       " 'place',\n",
       " 'to',\n",
       " 'upload',\n",
       " 'your',\n",
       " 'files',\n",
       " 'so',\n",
       " 'that',\n",
       " 'your',\n",
       " 'group',\n",
       " 'members',\n",
       " 'can',\n",
       " 'download',\n",
       " 'them',\n",
       " 'we',\n",
       " 'suggest',\n",
       " 'you',\n",
       " 'try',\n",
       " 'Google',\n",
       " 'Docs',\n",
       " 'You',\n",
       " 'can',\n",
       " 'upload',\n",
       " 'files',\n",
       " 'http',\n",
       " 'docs',\n",
       " 'google',\n",
       " 'com',\n",
       " 'support',\n",
       " 'bin',\n",
       " 'answer',\n",
       " 'py',\n",
       " 'hl',\n",
       " 'en',\n",
       " 'answer',\n",
       " '50092',\n",
       " 'and',\n",
       " 'share',\n",
       " 'access',\n",
       " 'with',\n",
       " 'either',\n",
       " 'a',\n",
       " 'group',\n",
       " 'http',\n",
       " 'docs',\n",
       " 'google',\n",
       " 'com',\n",
       " 'support',\n",
       " 'bin',\n",
       " 'answer',\n",
       " 'py',\n",
       " 'hl',\n",
       " 'en',\n",
       " 'answer',\n",
       " '66343',\n",
       " 'or',\n",
       " 'an',\n",
       " 'individual',\n",
       " 'http',\n",
       " 'docs',\n",
       " 'google',\n",
       " 'com',\n",
       " 'support',\n",
       " 'bin',\n",
       " 'answer',\n",
       " 'py',\n",
       " 'hl',\n",
       " 'en',\n",
       " 'answer',\n",
       " '86152',\n",
       " 'assigning',\n",
       " 'either',\n",
       " 'edit',\n",
       " 'or',\n",
       " 'download',\n",
       " 'only',\n",
       " 'access',\n",
       " 'to',\n",
       " 'the',\n",
       " 'files',\n",
       " 'you',\n",
       " 'have',\n",
       " 'received',\n",
       " 'this',\n",
       " 'mandatory',\n",
       " 'email',\n",
       " 'service',\n",
       " 'announcement',\n",
       " 'to',\n",
       " 'update',\n",
       " 'you',\n",
       " 'about',\n",
       " 'important',\n",
       " 'changes',\n",
       " 'to',\n",
       " 'Google',\n",
       " 'Groups',\n",
       " '']"
      ]
     },
     "execution_count": 49,
     "metadata": {},
     "output_type": "execute_result"
    }
   ],
   "source": [
    "listOfTokens"
   ]
  },
  {
   "cell_type": "code",
   "execution_count": 110,
   "metadata": {
    "collapsed": false
   },
   "outputs": [
    {
     "data": {
      "text/plain": [
       "<module 'bayes' from 'bayes.py'>"
      ]
     },
     "execution_count": 110,
     "metadata": {},
     "output_type": "execute_result"
    }
   ],
   "source": [
    "reload(bayes)"
   ]
  },
  {
   "cell_type": "code",
   "execution_count": 53,
   "metadata": {
    "collapsed": false
   },
   "outputs": [
    {
     "name": "stdout",
     "output_type": "stream",
     "text": [
      "the error rate is : 0.1\n"
     ]
    }
   ],
   "source": [
    "bayes.spamTest()"
   ]
  },
  {
   "cell_type": "code",
   "execution_count": 54,
   "metadata": {
    "collapsed": false
   },
   "outputs": [
    {
     "name": "stdout",
     "output_type": "stream",
     "text": [
      "the error rate is : 0.0\n"
     ]
    }
   ],
   "source": [
    "bayes.spamTest()"
   ]
  },
  {
   "cell_type": "code",
   "execution_count": 57,
   "metadata": {
    "collapsed": false
   },
   "outputs": [],
   "source": [
    "import feedparser"
   ]
  },
  {
   "cell_type": "code",
   "execution_count": 58,
   "metadata": {
    "collapsed": true
   },
   "outputs": [],
   "source": [
    "ny = feedparser.parse('http://newyork.craiglist.org/stp/index.rss')"
   ]
  },
  {
   "cell_type": "code",
   "execution_count": 61,
   "metadata": {
    "collapsed": false
   },
   "outputs": [
    {
     "data": {
      "text/plain": [
       "25"
      ]
     },
     "execution_count": 61,
     "metadata": {},
     "output_type": "execute_result"
    }
   ],
   "source": [
    "len(ny['entries'])"
   ]
  },
  {
   "cell_type": "code",
   "execution_count": 103,
   "metadata": {
    "collapsed": false
   },
   "outputs": [
    {
     "data": {
      "text/plain": [
       "<module 'bayes' from 'bayes.py'>"
      ]
     },
     "execution_count": 103,
     "metadata": {},
     "output_type": "execute_result"
    }
   ],
   "source": [
    "reload(bayes)"
   ]
  },
  {
   "cell_type": "code",
   "execution_count": 82,
   "metadata": {
    "collapsed": true
   },
   "outputs": [],
   "source": [
    "ny = feedparser.parse('http://www.nasa.gov/rss/dyn/image_of_the_day.rss')"
   ]
  },
  {
   "cell_type": "code",
   "execution_count": 87,
   "metadata": {
    "collapsed": true
   },
   "outputs": [],
   "source": [
    "sf = feedparser.parse('http://newyork.craigslist.org/stp/index.rss')"
   ]
  },
  {
   "cell_type": "code",
   "execution_count": 104,
   "metadata": {
    "collapsed": false
   },
   "outputs": [
    {
     "name": "stdout",
     "output_type": "stream",
     "text": [
      "the error rate is : 0.2\n"
     ]
    }
   ],
   "source": [
    "vocabList, pSF, pNY = bayes.localWords(ny, sf)"
   ]
  },
  {
   "cell_type": "code",
   "execution_count": 105,
   "metadata": {
    "collapsed": false
   },
   "outputs": [
    {
     "name": "stdout",
     "output_type": "stream",
     "text": [
      "the error rate is : 0.1\n"
     ]
    }
   ],
   "source": [
    "vocabList, pSF, pNY = bayes.localWords(ny, sf)"
   ]
  },
  {
   "cell_type": "code",
   "execution_count": 106,
   "metadata": {
    "collapsed": false
   },
   "outputs": [
    {
     "name": "stdout",
     "output_type": "stream",
     "text": [
      "the error rate is : 0.15\n"
     ]
    }
   ],
   "source": [
    "vocabList, pSF, pNY = bayes.localWords(ny, sf)"
   ]
  },
  {
   "cell_type": "code",
   "execution_count": 107,
   "metadata": {
    "collapsed": false
   },
   "outputs": [
    {
     "name": "stdout",
     "output_type": "stream",
     "text": [
      "the error rate is : 0.25\n"
     ]
    }
   ],
   "source": [
    "vocabList, pSF, pNY = bayes.localWords(ny, sf)"
   ]
  },
  {
   "cell_type": "code",
   "execution_count": 108,
   "metadata": {
    "collapsed": false
   },
   "outputs": [
    {
     "name": "stdout",
     "output_type": "stream",
     "text": [
      "the error rate is : 0.2\n"
     ]
    }
   ],
   "source": [
    "vocabList, pSF, pNY = bayes.localWords(ny, sf)"
   ]
  },
  {
   "cell_type": "code",
   "execution_count": 109,
   "metadata": {
    "collapsed": false
   },
   "outputs": [
    {
     "name": "stdout",
     "output_type": "stream",
     "text": [
      "the error rate is : 0.05\n"
     ]
    }
   ],
   "source": [
    "vocabList, pSF, pNY = bayes.localWords(ny, sf)"
   ]
  },
  {
   "cell_type": "code",
   "execution_count": 111,
   "metadata": {
    "collapsed": false
   },
   "outputs": [
    {
     "name": "stdout",
     "output_type": "stream",
     "text": [
      "the error rate is : 0.05\n",
      "SF**SF**SF**SF**SF**SF**SF**SF**SF**SF**SF**SF**SF**SF**\n",
      "one\n",
      "can\n",
      "have\n",
      "but\n",
      "with\n",
      "about\n",
      "get\n",
      "single\n",
      "just\n",
      "time\n",
      "pic\n",
      "something\n",
      "friend\n",
      "that\n",
      "let\n",
      "kids\n",
      "response\n",
      "day\n",
      "good\n",
      "out\n",
      "free\n",
      "don\n",
      "see\n",
      "are\n",
      "need\n",
      "spend\n",
      "shape\n",
      "like\n",
      "there\n",
      "long\n",
      "when\n",
      "sleep\n",
      "buddy\n",
      "woman\n",
      "minute\n",
      "round\n",
      "what\n",
      "new\n",
      "baseball\n",
      "great\n",
      "hour\n",
      "want\n",
      "honest\n",
      "cardio\n",
      "rather\n",
      "boxing\n",
      "better\n",
      "then\n",
      "workout\n",
      "break\n",
      "each\n",
      "girl\n",
      "try\n",
      "could\n",
      "feel\n",
      "another\n",
      "meaningful\n",
      "anyone\n",
      "grew\n",
      "relationship\n",
      "which\n",
      "why\n",
      "session\n",
      "based\n",
      "pretty\n",
      "workouts\n",
      "married\n",
      "gloves\n",
      "best\n",
      "email\n",
      "etc\n",
      "straight\n",
      "will\n",
      "fun\n",
      "swim\n",
      "different\n",
      "fling\n",
      "knot\n",
      "followed\n",
      "around\n",
      "either\n",
      "night\n",
      "old\n",
      "trust\n",
      "who\n",
      "seconds\n",
      "wanna\n",
      "commitment\n",
      "female\n",
      "openness\n",
      "put\n",
      "all\n",
      "asian\n",
      "165\n",
      "father\n",
      "send\n",
      "sent\n",
      "brown\n",
      "seized\n",
      "cool\n",
      "did\n",
      "tired\n",
      "discover\n",
      "even\n",
      "expressed\n",
      "aquaintances\n",
      "water\n",
      "100\n",
      "daughter\n",
      "real\n",
      "love\n",
      "prefer\n",
      "private\n",
      "would\n",
      "today\n",
      "more\n",
      "company\n",
      "warm\n",
      "must\n",
      "paragraph\n",
      "male\n",
      "plaza\n",
      "galleries\n",
      "fuck\n",
      "dominant\n",
      "preferably\n",
      "write\n",
      "nyc\n",
      "beach\n",
      "singular\n",
      "ethnic\n",
      "types\n",
      "man\n",
      "third\n",
      "facebook\n",
      "talk\n",
      "orang\n",
      "its\n",
      "into\n",
      "evening\n",
      "practice\n",
      "they\n",
      "singularity\n",
      "intelligent\n",
      "skills\n",
      "friendship\n",
      "square\n",
      "determine\n",
      "sexual\n",
      "since\n",
      "disappear\n",
      "24am\n",
      "hang\n",
      "ask\n",
      "wanted\n",
      "care\n",
      "your\n",
      "times\n",
      "place\n",
      "think\n",
      "yourself\n",
      "message\n",
      "girly\n",
      "draft\n",
      "hangout\n",
      "mostly\n",
      "relative\n",
      "say\n",
      "person\n",
      "parks\n",
      "concerns\n",
      "latina\n",
      "keeps\n",
      "most\n",
      "brooklyn\n",
      "regular\n",
      "extremely\n",
      "considered\n",
      "face\n",
      "cheap\n",
      "rough\n",
      "find\n",
      "near\n",
      "only\n",
      "going\n",
      "black\n",
      "personality\n",
      "his\n",
      "hit\n",
      "beat\n",
      "kind\n",
      "ones\n",
      "clicked\n",
      "jokes\n",
      "where\n",
      "art\n",
      "sex\n",
      "arm\n",
      "coma\n",
      "gwm\n",
      "chelsea\n",
      "tough\n",
      "kings\n",
      "dont\n",
      "treat\n",
      "wants\n",
      "both\n",
      "massage\n",
      "moved\n",
      "crack\n",
      "else\n",
      "chill\n",
      "eventually\n",
      "someone\n",
      "ethnicity\n",
      "same\n",
      "drink\n",
      "upon\n",
      "moving\n",
      "off\n",
      "mother\n",
      "things\n",
      "yet\n",
      "also\n",
      "lets\n",
      "big\n",
      "know\n",
      "disappointed\n",
      "apart\n",
      "glove\n",
      "passionate\n",
      "italian\n",
      "some\n",
      "back\n",
      "please\n",
      "throw\n",
      "anything\n",
      "months\n",
      "float\n",
      "year\n",
      "heated\n",
      "actually\n",
      "apparently\n",
      "way\n",
      "was\n",
      "vanilla\n",
      "wondering\n",
      "places\n",
      "hosting\n",
      "below\n",
      "similar\n",
      "toss\n",
      "describe\n",
      "right\n",
      "chat\n",
      "ship\n",
      "ideally\n",
      "nap\n",
      "really\n",
      "kinds\n",
      "hey\n",
      "gay\n",
      "variable\n",
      "friends\n",
      "pool\n",
      "lead\n",
      "age\n",
      "together\n",
      "once\n",
      "NY**NY**NY**NY**NY**NY**NY**NY**NY**NY**NY**NY**NY**NY**\n",
      "2017\n",
      "july\n",
      "space\n",
      "langley\n",
      "station\n",
      "spacecraft\n",
      "fischer\n",
      "earth\n",
      "international\n",
      "above\n",
      "research\n",
      "but\n",
      "center\n",
      "astronaut\n",
      "all\n",
      "astronauts\n",
      "edt\n",
      "noru\n",
      "soyuz\n",
      "jack\n",
      "small\n",
      "social\n",
      "randy\n",
      "baikonur\n",
      "launch\n",
      "orion\n",
      "expandable\n",
      "over\n",
      "its\n",
      "into\n",
      "beyond\n",
      "that\n",
      "typhoon\n",
      "toward\n",
      "have\n",
      "spacex\n",
      "one\n",
      "northern\n",
      "beam\n",
      "saturn\n",
      "bresnik\n",
      "miles\n",
      "module\n",
      "rings\n",
      "color\n",
      "250\n",
      "mars\n",
      "ocean\n",
      "photo\n",
      "photographed\n",
      "like\n",
      "pacific\n",
      "moon\n",
      "lakes\n",
      "super\n",
      "shared\n",
      "year\n",
      "was\n",
      "armstrong\n",
      "engineering\n",
      "when\n",
      "media\n",
      "land\n",
      "perseverance\n",
      "hampton\n",
      "issues\n",
      "canes\n",
      "sunlit\n",
      "pride\n",
      "crest\n",
      "wednesday\n",
      "team\n",
      "force\n",
      "what\n",
      "splashdown\n",
      "celebrated\n",
      "anniversary\n",
      "new\n",
      "tribute\n",
      "modis\n",
      "full\n",
      "peggy\n",
      "tracks\n",
      "dry\n",
      "great\n",
      "hunting\n",
      "employees\n",
      "addresses\n",
      "thursday\n",
      "trained\n",
      "cassini\n",
      "crater\n",
      "landscape\n",
      "standing\n",
      "conferences\n",
      "two\n",
      "territories\n",
      "vehicle\n",
      "taken\n",
      "ksc\n",
      "tested\n",
      "tunnel\n",
      "can\n",
      "beautiful\n",
      "sense\n",
      "amazing\n",
      "fourth\n",
      "massive\n",
      "may\n",
      "waters\n",
      "4th\n",
      "light\n",
      "dragon\n",
      "splashing\n",
      "wavy\n",
      "reentering\n",
      "cosmodrome\n",
      "mission\n",
      "years\n",
      "through\n",
      "looks\n",
      "still\n",
      "galaxy\n",
      "before\n",
      "overhead\n",
      "kazakhstan\n",
      "writing\n",
      "orange\n",
      "reentered\n",
      "return\n",
      "tucked\n",
      "they\n",
      "day\n",
      "side\n",
      "wheel\n",
      "neil\n",
      "celebrating\n",
      "out\n",
      "canada\n",
      "canaveral\n",
      "friday\n",
      "california\n",
      "imaging\n",
      "training\n",
      "area\n",
      "florida\n",
      "pence\n",
      "american\n",
      "aboard\n",
      "scene\n",
      "reaches\n",
      "footprint\n",
      "gazes\n",
      "president\n",
      "illuminates\n",
      "size\n",
      "dogs\n",
      "passed\n",
      "expanse\n",
      "western\n",
      "baja\n",
      "rivers\n",
      "were\n",
      "false\n",
      "bigelow\n",
      "seen\n",
      "demonstration\n",
      "agency\n",
      "equipment\n",
      "hatch\n",
      "significant\n",
      "sometimes\n",
      "storm\n",
      "notch\n",
      "galveston\n",
      "atmosphere\n",
      "phenomenon\n",
      "ngc\n",
      "his\n",
      "get\n",
      "bear\n",
      "coast\n",
      "capsule\n",
      "stars\n",
      "during\n",
      "covering\n",
      "numerous\n",
      "view\n",
      "venatici\n",
      "observed\n",
      "defense\n",
      "enhanced\n",
      "constellation\n",
      "said\n",
      "away\n",
      "procedures\n",
      "august\n",
      "vertical\n",
      "importance\n",
      "aircraft\n",
      "nunavut\n",
      "planned\n",
      "safely\n",
      "asked\n",
      "vast\n",
      "lake\n",
      "crew\n",
      "conference\n",
      "west\n",
      "mike\n",
      "flocked\n",
      "flight\n",
      "offered\n",
      "aviation\n",
      "straight\n",
      "destinations\n",
      "almost\n",
      "100th\n",
      "need\n",
      "perhaps\n",
      "make\n",
      "pad\n",
      "northwest\n",
      "satellite\n",
      "arctic\n",
      "pioneers\n",
      "opportunity\n",
      "off\n",
      "patterns\n",
      "greatest\n",
      "position\n",
      "left\n",
      "endeavour\n",
      "just\n",
      "whitson\n",
      "using\n",
      "captured\n",
      "halfway\n",
      "rover\n",
      "scheduled\n",
      "showing\n",
      "virginia\n",
      "early\n",
      "department\n",
      "aerospace\n",
      "cape\n",
      "arcs\n",
      "kennedy\n",
      "cancelled\n",
      "spring\n",
      "back\n",
      "images\n",
      "broad\n",
      "ice\n",
      "icy\n",
      "exit\n",
      "lunar\n",
      "moderate\n",
      "assembly\n",
      "power\n",
      "sixth\n",
      "1934\n",
      "crafting\n",
      "rim\n",
      "horizon\n",
      "raised\n",
      "facility\n",
      "image\n",
      "down\n",
      "weather\n",
      "amundsen\n",
      "long\n",
      "spectroradiometer\n",
      "valley\n",
      "happy\n",
      "landing\n",
      "cloud\n",
      "apollo\n",
      "gravitational\n",
      "smooth\n",
      "planet\n",
      "experimental\n",
      "exploration\n",
      "replying\n",
      "expedition\n",
      "4242\n",
      "right\n",
      "our\n",
      "commented\n",
      "problems\n",
      "terra\n",
      "scale\n",
      "gulf\n",
      "building\n",
      "vice\n",
      "time\n",
      "resolution\n",
      "sergei\n",
      "magnetic\n",
      "sleep\n",
      "asian\n",
      "165\n",
      "buddy\n",
      "father\n",
      "young\n",
      "send\n",
      "under\n",
      "friendly\n",
      "sent\n",
      "moot\n",
      "brown\n",
      "woman\n",
      "seized\n",
      "provides\n",
      "aurora\n",
      "showcontact\n",
      "ryazanskiy\n",
      "every\n",
      "minute\n",
      "cool\n",
      "did\n",
      "travels\n",
      "swirling\n",
      "round\n",
      "upper\n",
      "tired\n",
      "alsep\n",
      "discover\n",
      "masterbation\n",
      "second\n",
      "video\n",
      "click\n",
      "chuckle\n",
      "even\n",
      "6249187522\n",
      "sun\n",
      "expressed\n",
      "newyork\n",
      "men\n",
      "aquaintances\n",
      "water\n",
      "baseball\n",
      "active\n",
      "sexy\n",
      "100\n",
      "appears\n",
      "kids\n",
      "daughter\n",
      "title\n",
      "experience\n",
      "real\n",
      "elongated\n",
      "reckoned\n",
      "love\n",
      "disability\n",
      "prefer\n",
      "private\n",
      "psychological\n",
      "visible\n",
      "href\n",
      "would\n",
      "music\n",
      "https\n",
      "today\n",
      "more\n",
      "company\n",
      "pic\n",
      "about\n",
      "warm\n",
      "particular\n",
      "known\n",
      "must\n",
      "town\n",
      "hour\n",
      "science\n",
      "lapse\n",
      "arches\n",
      "paragraph\n",
      "male\n",
      "plaza\n",
      "trump\n",
      "galleries\n",
      "fuck\n",
      "something\n",
      "want\n",
      "dominant\n",
      "honest\n",
      "cardio\n",
      "preferably\n",
      "information\n",
      "end\n",
      "rather\n",
      "boxing\n",
      "mingle\n",
      "write\n",
      "how\n",
      "eichst\n",
      "forest\n",
      "nyc\n",
      "beach\n",
      "singular\n",
      "spot\n",
      "arcing\n",
      "ethnic\n",
      "such\n",
      "suck\n",
      "data\n",
      "response\n",
      "types\n",
      "man\n",
      "third\n",
      "irwin\n",
      "green\n",
      "facebook\n",
      "talk\n",
      "junocam\n",
      "orang\n",
      "experiments\n",
      "june\n",
      "jim\n",
      "glowing\n",
      "better\n",
      "choose\n",
      "then\n",
      "evening\n",
      "seeking\n",
      "workout\n",
      "practice\n",
      "break\n",
      "effects\n",
      "instead\n",
      "singularity\n",
      "now\n",
      "intelligent\n",
      "didn\n",
      "skills\n",
      "good\n",
      "each\n",
      "friendship\n",
      "mean\n",
      "square\n",
      "determine\n",
      "forgot\n",
      "laboratory\n",
      "girl\n",
      "sexual\n",
      "try\n",
      "since\n",
      "particles\n",
      "disappear\n",
      "engineer\n",
      "red\n",
      "ass\n",
      "foreground\n",
      "scandalize\n",
      "24am\n",
      "hang\n",
      "free\n",
      "quite\n",
      "base\n",
      "imagine\n",
      "ask\n",
      "org\n",
      "wanted\n",
      "care\n",
      "your\n",
      "created\n",
      "flare\n",
      "could\n",
      "times\n",
      "place\n",
      "sixtyish\n",
      "think\n",
      "feel\n",
      "yourself\n",
      "another\n",
      "carry\n",
      "message\n",
      "little\n",
      "girly\n",
      "meaningful\n",
      "detonator\n",
      "anyone\n",
      "draft\n",
      "erupted\n",
      "friend\n",
      "hangout\n",
      "mostly\n",
      "relative\n",
      "took\n",
      "part\n",
      "distance\n",
      "photograph\n",
      "grew\n",
      "wet\n",
      "tree\n",
      "stp\n",
      "mini\n",
      "lines\n",
      "mind\n",
      "say\n",
      "relationship\n",
      "person\n",
      "1966\n",
      "parks\n",
      "scrutinizing\n",
      "concerns\n",
      "latina\n",
      "which\n",
      "203\n",
      "wha\n",
      "keeps\n",
      "falls\n",
      "most\n",
      "brooklyn\n",
      "regular\n",
      "extremely\n",
      "why\n",
      "don\n",
      "considered\n",
      "sunrises\n",
      "drive\n",
      "face\n",
      "barred\n",
      "wind\n",
      "show\n",
      "text\n",
      "cheap\n",
      "roscosmos\n",
      "bring\n",
      "bright\n",
      "session\n",
      "rough\n",
      "find\n",
      "near\n",
      "based\n",
      "rocket\n",
      "only\n",
      "going\n",
      "black\n",
      "pretty\n",
      "thousands\n",
      "discuss\n",
      "personality\n",
      "photographs\n",
      "hit\n",
      "beat\n",
      "kind\n",
      "ones\n",
      "basement\n",
      "workouts\n",
      "clicked\n",
      "married\n",
      "jokes\n",
      "gloves\n",
      "processed\n",
      "where\n",
      "art\n",
      "unmarried\n",
      "sex\n",
      "see\n",
      "are\n",
      "arm\n",
      "best\n",
      "coils\n",
      "orbiting\n",
      "timber\n",
      "conditions\n",
      "email\n",
      "supermarket\n",
      "coma\n",
      "hours\n",
      "gwm\n",
      "chelsea\n",
      "region\n",
      "wouldn\n",
      "etc\n",
      "gerald\n",
      "puff\n",
      "jersey\n",
      "tough\n",
      "point\n",
      "pop\n",
      "nespoli\n",
      "kings\n",
      "along\n",
      "combines\n",
      "due\n",
      "dont\n",
      "treat\n",
      "wants\n",
      "monsoons\n",
      "both\n",
      "massage\n",
      "moved\n",
      "crack\n",
      "else\n",
      "photos\n",
      "chill\n",
      "present\n",
      "pilot\n",
      "sculpt\n",
      "ejection\n",
      "single\n",
      "will\n",
      "while\n",
      "fun\n",
      "launched\n",
      "swim\n",
      "ivb\n",
      "eventually\n",
      "walks\n",
      "site\n",
      "surface\n",
      "unit\n",
      "someone\n",
      "ready\n",
      "ethnicity\n",
      "orbital\n",
      "different\n",
      "let\n",
      "large\n",
      "fling\n",
      "spiraling\n",
      "same\n",
      "member\n",
      "craigslist\n",
      "european\n",
      "week\n",
      "drink\n",
      "upon\n",
      "crushed\n",
      "scientist\n",
      "edges\n",
      "moving\n",
      "dust\n",
      "alligators\n",
      "vantage\n",
      "wispy\n",
      "condiments\n",
      "older\n",
      "1971\n",
      "contact\n",
      "mother\n",
      "spend\n",
      "things\n",
      "knot\n",
      "proximity\n",
      "moonwalk\n",
      "obtain\n",
      "crewed\n",
      "shape\n",
      "followed\n",
      "yet\n",
      "also\n",
      "thinking\n",
      "had\n",
      "sinuous\n",
      "ketchup\n",
      "instrument\n",
      "lets\n",
      "citizen\n",
      "cum\n",
      "around\n",
      "rules\n",
      "big\n",
      "know\n",
      "traveled\n",
      "shadow\n",
      "disappointed\n",
      "apart\n",
      "nude\n",
      "glove\n",
      "sized\n",
      "either\n",
      "night\n",
      "become\n",
      "passionate\n",
      "italian\n",
      "because\n",
      "old\n",
      "some\n",
      "jupiter\n",
      "lingers\n",
      "imager\n",
      "stir\n",
      "trust\n",
      "please\n",
      "whitehorse\n",
      "esa\n",
      "gunnsion\n",
      "core\n",
      "who\n",
      "seconds\n",
      "rock\n",
      "throw\n",
      "stage\n",
      "anything\n",
      "package\n",
      "months\n",
      "coronal\n",
      "wanna\n",
      "giggly\n",
      "unnoticed\n",
      "float\n",
      "commitment\n",
      "arms\n",
      "female\n",
      "heated\n",
      "actually\n",
      "uncrewed\n",
      "aren\n",
      "panorama\n",
      "apparently\n",
      "there\n",
      "spiral\n",
      "camera\n",
      "way\n",
      "slowly\n",
      "vanilla\n",
      "medium\n",
      "wondering\n",
      "catsup\n",
      "tranquility\n",
      "films\n",
      "solar\n",
      "with\n",
      "info\n",
      "paolo\n",
      "places\n",
      "pond\n",
      "wish\n",
      "hosting\n",
      "below\n",
      "panels\n",
      "similar\n",
      "carves\n",
      "toss\n",
      "describe\n",
      "duration\n",
      "chat\n",
      "ship\n",
      "openness\n",
      "mutual\n",
      "ideally\n",
      "tentative\n",
      "field\n",
      "nap\n",
      "test\n",
      "really\n",
      "2500\n",
      "kinds\n",
      "hey\n",
      "juno\n",
      "put\n",
      "gay\n",
      "class\n",
      "variable\n",
      "friends\n",
      "yell\n",
      "pool\n",
      "furthest\n",
      "lead\n",
      "amp\n",
      "home\n",
      "age\n",
      "lot\n",
      "lasted\n",
      "together\n",
      "mass\n",
      "curvs\n",
      "hello\n",
      "once\n"
     ]
    }
   ],
   "source": [
    "bayes.getTopWords(ny,sf)"
   ]
  },
  {
   "cell_type": "code",
   "execution_count": null,
   "metadata": {
    "collapsed": true
   },
   "outputs": [],
   "source": []
  }
 ],
 "metadata": {
  "kernelspec": {
   "display_name": "Python 2",
   "language": "python",
   "name": "python2"
  },
  "language_info": {
   "codemirror_mode": {
    "name": "ipython",
    "version": 2
   },
   "file_extension": ".py",
   "mimetype": "text/x-python",
   "name": "python",
   "nbconvert_exporter": "python",
   "pygments_lexer": "ipython2",
   "version": "2.7.13"
  }
 },
 "nbformat": 4,
 "nbformat_minor": 2
}
