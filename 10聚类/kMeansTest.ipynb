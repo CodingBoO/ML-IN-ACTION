{
 "cells": [
  {
   "cell_type": "code",
   "execution_count": 1,
   "metadata": {
    "collapsed": true
   },
   "outputs": [],
   "source": [
    "import kMeans"
   ]
  },
  {
   "cell_type": "code",
   "execution_count": 2,
   "metadata": {
    "collapsed": true
   },
   "outputs": [],
   "source": [
    "import numpy as np"
   ]
  },
  {
   "cell_type": "code",
   "execution_count": 4,
   "metadata": {
    "collapsed": false
   },
   "outputs": [],
   "source": [
    "reload(kMeans)\n",
    "dataMat = np.mat(kMeans.loadDataSet('testSet.txt'))"
   ]
  },
  {
   "cell_type": "code",
   "execution_count": 5,
   "metadata": {
    "collapsed": false
   },
   "outputs": [
    {
     "data": {
      "text/plain": [
       "(80L, 2L)"
      ]
     },
     "execution_count": 5,
     "metadata": {},
     "output_type": "execute_result"
    }
   ],
   "source": [
    "dataMat.shape"
   ]
  },
  {
   "cell_type": "code",
   "execution_count": 6,
   "metadata": {
    "collapsed": false
   },
   "outputs": [
    {
     "data": {
      "text/plain": [
       "-5.3797129999999997"
      ]
     },
     "execution_count": 6,
     "metadata": {},
     "output_type": "execute_result"
    }
   ],
   "source": [
    "np.min(dataMat[:, 0])"
   ]
  },
  {
   "cell_type": "code",
   "execution_count": 7,
   "metadata": {
    "collapsed": false
   },
   "outputs": [
    {
     "data": {
      "text/plain": [
       "-4.2325860000000004"
      ]
     },
     "execution_count": 7,
     "metadata": {},
     "output_type": "execute_result"
    }
   ],
   "source": [
    "np.min(dataMat[:, 1])"
   ]
  },
  {
   "cell_type": "code",
   "execution_count": 8,
   "metadata": {
    "collapsed": false
   },
   "outputs": [
    {
     "data": {
      "text/plain": [
       "4.8381379999999998"
      ]
     },
     "execution_count": 8,
     "metadata": {},
     "output_type": "execute_result"
    }
   ],
   "source": [
    "np.max(dataMat[:, 0])"
   ]
  },
  {
   "cell_type": "code",
   "execution_count": 9,
   "metadata": {
    "collapsed": false
   },
   "outputs": [
    {
     "data": {
      "text/plain": [
       "5.1904000000000003"
      ]
     },
     "execution_count": 9,
     "metadata": {},
     "output_type": "execute_result"
    }
   ],
   "source": [
    "np.max(dataMat[:, 1])"
   ]
  },
  {
   "cell_type": "code",
   "execution_count": 10,
   "metadata": {
    "collapsed": false
   },
   "outputs": [
    {
     "data": {
      "text/plain": [
       "matrix([[-2.67160752, -1.78764592],\n",
       "        [-4.32225348, -3.49961684]])"
      ]
     },
     "execution_count": 10,
     "metadata": {},
     "output_type": "execute_result"
    }
   ],
   "source": [
    "kMeans.randCent(dataMat, 2)"
   ]
  },
  {
   "cell_type": "code",
   "execution_count": 11,
   "metadata": {
    "collapsed": false
   },
   "outputs": [
    {
     "data": {
      "text/plain": [
       "5.184632816681332"
      ]
     },
     "execution_count": 11,
     "metadata": {},
     "output_type": "execute_result"
    }
   ],
   "source": [
    "kMeans.distEclud(dataMat[0], dataMat[1])"
   ]
  },
  {
   "cell_type": "code",
   "execution_count": 12,
   "metadata": {
    "collapsed": false
   },
   "outputs": [
    {
     "data": {
      "text/plain": [
       "matrix([[ 1.658985,  4.285136]])"
      ]
     },
     "execution_count": 12,
     "metadata": {},
     "output_type": "execute_result"
    }
   ],
   "source": [
    "dataMat[0]"
   ]
  },
  {
   "cell_type": "code",
   "execution_count": 13,
   "metadata": {
    "collapsed": false
   },
   "outputs": [
    {
     "data": {
      "text/plain": [
       "<module 'kMeans' from 'kMeans.pyc'>"
      ]
     },
     "execution_count": 13,
     "metadata": {},
     "output_type": "execute_result"
    }
   ],
   "source": [
    "reload(kMeans)"
   ]
  },
  {
   "cell_type": "code",
   "execution_count": 14,
   "metadata": {
    "collapsed": false
   },
   "outputs": [
    {
     "name": "stdout",
     "output_type": "stream",
     "text": [
      "[[ 2.58472176  3.56710553]\n",
      " [-4.761136    1.41273909]\n",
      " [ 2.64853039 -1.6898028 ]\n",
      " [ 3.62252737  1.6494232 ]]\n",
      "[[ 1.87380407  3.5460134 ]\n",
      " [-3.13265342 -0.01476825]\n",
      " [ 2.43385309 -2.85575373]\n",
      " [ 3.262091    2.073162  ]]\n",
      "[[ 1.36683306  3.622562  ]\n",
      " [-3.18695357 -0.35938491]\n",
      " [ 2.65077367 -2.79019029]\n",
      " [ 3.21484275  2.1944465 ]]\n",
      "[[ 0.77377313  3.57101044]\n",
      " [-3.26435785 -0.56399561]\n",
      " [ 2.65077367 -2.79019029]\n",
      " [ 3.1388135   2.441378  ]]\n",
      "[[-0.56848347  3.34367493]\n",
      " [-3.43321524 -1.00773014]\n",
      " [ 2.65077367 -2.79019029]\n",
      " [ 2.942346    2.80047613]]\n",
      "[[-2.15677217  3.03192211]\n",
      " [-3.4859745  -2.31300105]\n",
      " [ 2.65077367 -2.79019029]\n",
      " [ 2.71358074  3.11839563]]\n",
      "[[-2.46154315  2.78737555]\n",
      " [-3.53973889 -2.89384326]\n",
      " [ 2.65077367 -2.79019029]\n",
      " [ 2.6265299   3.10868015]]\n"
     ]
    }
   ],
   "source": [
    "myCentroids, clustAssing = kMeans.kMeans(dataMat, 4)"
   ]
  },
  {
   "cell_type": "code",
   "execution_count": 3,
   "metadata": {
    "collapsed": true
   },
   "outputs": [],
   "source": [
    "import matplotlib.pyplot as plt"
   ]
  },
  {
   "cell_type": "code",
   "execution_count": 25,
   "metadata": {
    "collapsed": true
   },
   "outputs": [],
   "source": [
    "dataMat3 = np.mat(kMeans.loadDataSet('testSet2.txt'))"
   ]
  },
  {
   "cell_type": "code",
   "execution_count": 29,
   "metadata": {
    "collapsed": false
   },
   "outputs": [
    {
     "data": {
      "text/plain": [
       "<module 'kMeans' from 'kMeans.py'>"
      ]
     },
     "execution_count": 29,
     "metadata": {},
     "output_type": "execute_result"
    }
   ],
   "source": [
    "reload(kMeans)"
   ]
  },
  {
   "cell_type": "code",
   "execution_count": 30,
   "metadata": {
    "collapsed": false,
    "scrolled": true
   },
   "outputs": [
    {
     "name": "stdout",
     "output_type": "stream",
     "text": [
      "[[ 2.39928452  2.02271762]\n",
      " [-2.03991898  3.81987496]]\n",
      "[[ 1.30897764  0.21151872]\n",
      " [-2.8815949   3.10812271]]\n",
      "[[ 1.23710375  0.17480612]\n",
      " [-2.94737575  3.3263781 ]]\n",
      "sseSplit, and notSplit :  570.722757425 0.0\n",
      "the bestCentTopSplit is: 0\n",
      "the len of bestClustAss is: 60\n",
      "[[ 3.76038996  0.97167683]\n",
      " [-1.56896842 -1.65172123]]\n",
      "[[ 2.93386365  3.12782785]\n",
      " [-0.45965615 -2.7782156 ]]\n",
      "sseSplit, and notSplit :  68.6865481262 38.0629506357\n",
      "[[-1.02021393  3.74499825]\n",
      " [-2.81004296  3.92193466]]\n",
      "[[-1.391504    3.37801267]\n",
      " [-3.22194135  3.31726612]]\n",
      "[[-1.76576557  3.39794014]\n",
      " [-3.58362738  3.28784469]]\n",
      "sseSplit, and notSplit :  22.9717718963 532.659806789\n",
      "the bestCentTopSplit is: 0\n",
      "the len of bestClustAss is: 40\n",
      "centList is: [matrix([[ 2.93386365,  3.12782785]]), [-2.94737575, 3.3263781000000003], [-0.45965614999999993, -2.7782156000000002]]\n"
     ]
    }
   ],
   "source": [
    "centList, myNewAssments = kMeans.biKmeans(dataMat3, 3)"
   ]
  },
  {
   "cell_type": "code",
   "execution_count": 31,
   "metadata": {
    "collapsed": false
   },
   "outputs": [
    {
     "data": {
      "text/plain": [
       "matrix([[matrix([[ 2.93386365,  3.12782785]]),\n",
       "         [-2.94737575, 3.3263781000000003],\n",
       "         [-0.45965614999999993, -2.7782156000000002]]], dtype=object)"
      ]
     },
     "execution_count": 31,
     "metadata": {},
     "output_type": "execute_result"
    }
   ],
   "source": [
    "centList"
   ]
  },
  {
   "cell_type": "markdown",
   "metadata": {},
   "source": [
    "### 对地图上的点进行聚类"
   ]
  },
  {
   "cell_type": "code",
   "execution_count": null,
   "metadata": {
    "collapsed": true
   },
   "outputs": [],
   "source": []
  }
 ],
 "metadata": {
  "kernelspec": {
   "display_name": "Python 2",
   "language": "python",
   "name": "python2"
  },
  "language_info": {
   "codemirror_mode": {
    "name": "ipython",
    "version": 2
   },
   "file_extension": ".py",
   "mimetype": "text/x-python",
   "name": "python",
   "nbconvert_exporter": "python",
   "pygments_lexer": "ipython2",
   "version": "2.7.13"
  }
 },
 "nbformat": 4,
 "nbformat_minor": 2
}
