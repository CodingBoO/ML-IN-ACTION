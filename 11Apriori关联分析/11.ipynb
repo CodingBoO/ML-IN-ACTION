{
 "cells": [
  {
   "cell_type": "code",
   "execution_count": 1,
   "metadata": {
    "collapsed": true
   },
   "outputs": [],
   "source": [
    "import apriori"
   ]
  },
  {
   "cell_type": "code",
   "execution_count": 2,
   "metadata": {
    "collapsed": true
   },
   "outputs": [],
   "source": [
    "dataSet = apriori.loadDataSet()"
   ]
  },
  {
   "cell_type": "code",
   "execution_count": 3,
   "metadata": {
    "collapsed": false
   },
   "outputs": [
    {
     "data": {
      "text/plain": [
       "[[1, 3, 4], [2, 3, 5], [1, 2, 3, 5], [2, 5]]"
      ]
     },
     "execution_count": 3,
     "metadata": {},
     "output_type": "execute_result"
    }
   ],
   "source": [
    "dataSet"
   ]
  },
  {
   "cell_type": "code",
   "execution_count": 4,
   "metadata": {
    "collapsed": true
   },
   "outputs": [],
   "source": [
    "C1 = apriori.createC1(dataSet)"
   ]
  },
  {
   "cell_type": "code",
   "execution_count": 5,
   "metadata": {
    "collapsed": false
   },
   "outputs": [
    {
     "data": {
      "text/plain": [
       "[frozenset({1}),\n",
       " frozenset({2}),\n",
       " frozenset({3}),\n",
       " frozenset({4}),\n",
       " frozenset({5})]"
      ]
     },
     "execution_count": 5,
     "metadata": {},
     "output_type": "execute_result"
    }
   ],
   "source": [
    "C1"
   ]
  },
  {
   "cell_type": "code",
   "execution_count": 6,
   "metadata": {
    "collapsed": true
   },
   "outputs": [],
   "source": [
    "D = map(set, dataSet)"
   ]
  },
  {
   "cell_type": "code",
   "execution_count": 7,
   "metadata": {
    "collapsed": false
   },
   "outputs": [
    {
     "data": {
      "text/plain": [
       "[{1, 3, 4}, {2, 3, 5}, {1, 2, 3, 5}, {2, 5}]"
      ]
     },
     "execution_count": 7,
     "metadata": {},
     "output_type": "execute_result"
    }
   ],
   "source": [
    "D"
   ]
  },
  {
   "cell_type": "code",
   "execution_count": 8,
   "metadata": {
    "collapsed": true
   },
   "outputs": [],
   "source": [
    "L1, supportData0 = apriori.scanD(D, C1, 0.5)"
   ]
  },
  {
   "cell_type": "code",
   "execution_count": 9,
   "metadata": {
    "collapsed": false
   },
   "outputs": [
    {
     "data": {
      "text/plain": [
       "[frozenset({1}), frozenset({3}), frozenset({2}), frozenset({5})]"
      ]
     },
     "execution_count": 9,
     "metadata": {},
     "output_type": "execute_result"
    }
   ],
   "source": [
    "L1"
   ]
  },
  {
   "cell_type": "code",
   "execution_count": 10,
   "metadata": {
    "collapsed": false
   },
   "outputs": [
    {
     "data": {
      "text/plain": [
       "{frozenset({4}): 0.25,\n",
       " frozenset({5}): 0.75,\n",
       " frozenset({2}): 0.75,\n",
       " frozenset({3}): 0.75,\n",
       " frozenset({1}): 0.5}"
      ]
     },
     "execution_count": 10,
     "metadata": {},
     "output_type": "execute_result"
    }
   ],
   "source": [
    "supportData0"
   ]
  },
  {
   "cell_type": "code",
   "execution_count": 11,
   "metadata": {
    "collapsed": false
   },
   "outputs": [
    {
     "data": {
      "text/plain": [
       "<module 'apriori' from 'apriori.py'>"
      ]
     },
     "execution_count": 11,
     "metadata": {},
     "output_type": "execute_result"
    }
   ],
   "source": [
    "reload(apriori)"
   ]
  },
  {
   "cell_type": "code",
   "execution_count": 12,
   "metadata": {
    "collapsed": true
   },
   "outputs": [],
   "source": [
    "L, supportData = apriori.apriori(dataSet)"
   ]
  },
  {
   "cell_type": "code",
   "execution_count": 13,
   "metadata": {
    "collapsed": false
   },
   "outputs": [
    {
     "data": {
      "text/plain": [
       "[[frozenset({1}), frozenset({3}), frozenset({2}), frozenset({5})],\n",
       " [frozenset({1, 3}), frozenset({2, 5}), frozenset({2, 3}), frozenset({3, 5})],\n",
       " [frozenset({2, 3, 5})],\n",
       " []]"
      ]
     },
     "execution_count": 13,
     "metadata": {},
     "output_type": "execute_result"
    }
   ],
   "source": [
    "L"
   ]
  },
  {
   "cell_type": "code",
   "execution_count": 14,
   "metadata": {
    "collapsed": false
   },
   "outputs": [
    {
     "data": {
      "text/plain": [
       "[frozenset({1}), frozenset({3}), frozenset({2}), frozenset({5})]"
      ]
     },
     "execution_count": 14,
     "metadata": {},
     "output_type": "execute_result"
    }
   ],
   "source": [
    "L[0]"
   ]
  },
  {
   "cell_type": "code",
   "execution_count": 15,
   "metadata": {
    "collapsed": false
   },
   "outputs": [
    {
     "data": {
      "text/plain": [
       "[frozenset({1, 3}), frozenset({2, 5}), frozenset({2, 3}), frozenset({3, 5})]"
      ]
     },
     "execution_count": 15,
     "metadata": {},
     "output_type": "execute_result"
    }
   ],
   "source": [
    "L[1]"
   ]
  },
  {
   "cell_type": "code",
   "execution_count": 16,
   "metadata": {
    "collapsed": false
   },
   "outputs": [
    {
     "data": {
      "text/plain": [
       "[frozenset({2, 3, 5})]"
      ]
     },
     "execution_count": 16,
     "metadata": {},
     "output_type": "execute_result"
    }
   ],
   "source": [
    "L[2]"
   ]
  },
  {
   "cell_type": "code",
   "execution_count": 19,
   "metadata": {
    "collapsed": false
   },
   "outputs": [
    {
     "data": {
      "text/plain": [
       "[]"
      ]
     },
     "execution_count": 19,
     "metadata": {},
     "output_type": "execute_result"
    }
   ],
   "source": [
    "L[3]"
   ]
  },
  {
   "cell_type": "code",
   "execution_count": 20,
   "metadata": {
    "collapsed": false
   },
   "outputs": [
    {
     "data": {
      "text/plain": [
       "[frozenset({1, 3}),\n",
       " frozenset({1, 2}),\n",
       " frozenset({1, 5}),\n",
       " frozenset({2, 3}),\n",
       " frozenset({3, 5}),\n",
       " frozenset({2, 5})]"
      ]
     },
     "execution_count": 20,
     "metadata": {},
     "output_type": "execute_result"
    }
   ],
   "source": [
    "apriori.aprioriGen(L[0], 2)"
   ]
  },
  {
   "cell_type": "code",
   "execution_count": 21,
   "metadata": {
    "collapsed": true
   },
   "outputs": [],
   "source": [
    "L, supportData = apriori.apriori(dataSet, minSupport=0.7)"
   ]
  },
  {
   "cell_type": "code",
   "execution_count": 22,
   "metadata": {
    "collapsed": false
   },
   "outputs": [
    {
     "data": {
      "text/plain": [
       "[[frozenset({3}), frozenset({2}), frozenset({5})], [frozenset({2, 5})], []]"
      ]
     },
     "execution_count": 22,
     "metadata": {},
     "output_type": "execute_result"
    }
   ],
   "source": [
    "L"
   ]
  },
  {
   "cell_type": "code",
   "execution_count": 27,
   "metadata": {
    "collapsed": false
   },
   "outputs": [
    {
     "data": {
      "text/plain": [
       "<module 'apriori' from 'apriori.py'>"
      ]
     },
     "execution_count": 27,
     "metadata": {},
     "output_type": "execute_result"
    }
   ],
   "source": [
    "reload(apriori)"
   ]
  },
  {
   "cell_type": "code",
   "execution_count": 25,
   "metadata": {
    "collapsed": false
   },
   "outputs": [],
   "source": [
    "L, supportData = apriori.apriori(dataSet, minSupport=0.5)"
   ]
  },
  {
   "cell_type": "code",
   "execution_count": 28,
   "metadata": {
    "collapsed": false
   },
   "outputs": [
    {
     "name": "stdout",
     "output_type": "stream",
     "text": [
      "frozenset([1]) --> frozenset([3]) conf: 1.0\n",
      "frozenset([5]) --> frozenset([2]) conf: 1.0\n",
      "frozenset([2]) --> frozenset([5]) conf: 1.0\n"
     ]
    }
   ],
   "source": [
    "relus = apriori.generateRules(L, supportData, minconf=0.7)"
   ]
  },
  {
   "cell_type": "code",
   "execution_count": 29,
   "metadata": {
    "collapsed": false
   },
   "outputs": [
    {
     "name": "stdout",
     "output_type": "stream",
     "text": [
      "frozenset([3]) --> frozenset([1]) conf: 0.666666666667\n",
      "frozenset([1]) --> frozenset([3]) conf: 1.0\n",
      "frozenset([5]) --> frozenset([2]) conf: 1.0\n",
      "frozenset([2]) --> frozenset([5]) conf: 1.0\n",
      "frozenset([3]) --> frozenset([2]) conf: 0.666666666667\n",
      "frozenset([2]) --> frozenset([3]) conf: 0.666666666667\n",
      "frozenset([5]) --> frozenset([3]) conf: 0.666666666667\n",
      "frozenset([3]) --> frozenset([5]) conf: 0.666666666667\n",
      "frozenset([5]) --> frozenset([2, 3]) conf: 0.666666666667\n",
      "frozenset([3]) --> frozenset([2, 5]) conf: 0.666666666667\n",
      "frozenset([2]) --> frozenset([3, 5]) conf: 0.666666666667\n"
     ]
    }
   ],
   "source": [
    "relus = apriori.generateRules(L, supportData, minconf=0.5)"
   ]
  },
  {
   "cell_type": "code",
   "execution_count": 30,
   "metadata": {
    "collapsed": false
   },
   "outputs": [
    {
     "data": {
      "text/plain": [
       "[(frozenset({3}), frozenset({1}), 0.6666666666666666),\n",
       " (frozenset({1}), frozenset({3}), 1.0),\n",
       " (frozenset({5}), frozenset({2}), 1.0),\n",
       " (frozenset({2}), frozenset({5}), 1.0),\n",
       " (frozenset({3}), frozenset({2}), 0.6666666666666666),\n",
       " (frozenset({2}), frozenset({3}), 0.6666666666666666),\n",
       " (frozenset({5}), frozenset({3}), 0.6666666666666666),\n",
       " (frozenset({3}), frozenset({5}), 0.6666666666666666),\n",
       " (frozenset({5}), frozenset({2, 3}), 0.6666666666666666),\n",
       " (frozenset({3}), frozenset({2, 5}), 0.6666666666666666),\n",
       " (frozenset({2}), frozenset({3, 5}), 0.6666666666666666)]"
      ]
     },
     "execution_count": 30,
     "metadata": {},
     "output_type": "execute_result"
    }
   ],
   "source": [
    "relus"
   ]
  },
  {
   "cell_type": "code",
   "execution_count": 46,
   "metadata": {
    "collapsed": true
   },
   "outputs": [],
   "source": [
    "from votesmart import votesmart"
   ]
  },
  {
   "cell_type": "code",
   "execution_count": 39,
   "metadata": {
    "collapsed": true
   },
   "outputs": [],
   "source": [
    "votesmart.apikey = 'a7fa40adec6f4a77178799fae4441030'"
   ]
  },
  {
   "cell_type": "code",
   "execution_count": 47,
   "metadata": {
    "collapsed": false
   },
   "outputs": [
    {
     "ename": "VotesmartApiError",
     "evalue": "Authorization failed",
     "output_type": "error",
     "traceback": [
      "\u001b[1;31m\u001b[0m",
      "\u001b[1;31mVotesmartApiError\u001b[0mTraceback (most recent call last)",
      "\u001b[1;32m<ipython-input-47-3e59b7a60935>\u001b[0m in \u001b[0;36m<module>\u001b[1;34m()\u001b[0m\n\u001b[1;32m----> 1\u001b[1;33m \u001b[0mvotesmart\u001b[0m\u001b[1;33m.\u001b[0m\u001b[0mvotes\u001b[0m\u001b[1;33m.\u001b[0m\u001b[0mgetBillsByStateRecent\u001b[0m\u001b[1;33m(\u001b[0m\u001b[1;33m)\u001b[0m\u001b[1;33m\u001b[0m\u001b[0m\n\u001b[0m",
      "\u001b[1;32mE:\\Anaconda\\lib\\site-packages\\votesmart.pyc\u001b[0m in \u001b[0;36mgetBillsByStateRecent\u001b[1;34m(stateId, amount)\u001b[0m\n\u001b[0;32m    635\u001b[0m         \u001b[1;32mdef\u001b[0m \u001b[0mgetBillsByStateRecent\u001b[0m\u001b[1;33m(\u001b[0m\u001b[0mstateId\u001b[0m\u001b[1;33m=\u001b[0m\u001b[0mNone\u001b[0m\u001b[1;33m,\u001b[0m \u001b[0mamount\u001b[0m\u001b[1;33m=\u001b[0m\u001b[0mNone\u001b[0m\u001b[1;33m)\u001b[0m\u001b[1;33m:\u001b[0m\u001b[1;33m\u001b[0m\u001b[0m\n\u001b[0;32m    636\u001b[0m             \u001b[0mparams\u001b[0m \u001b[1;33m=\u001b[0m \u001b[1;33m{\u001b[0m\u001b[1;34m'stateId'\u001b[0m\u001b[1;33m:\u001b[0m\u001b[0mstateId\u001b[0m\u001b[1;33m,\u001b[0m \u001b[1;34m'amount'\u001b[0m\u001b[1;33m:\u001b[0m\u001b[0mamount\u001b[0m\u001b[1;33m}\u001b[0m\u001b[1;33m\u001b[0m\u001b[0m\n\u001b[1;32m--> 637\u001b[1;33m             \u001b[0mresult\u001b[0m \u001b[1;33m=\u001b[0m \u001b[0mvotesmart\u001b[0m\u001b[1;33m.\u001b[0m\u001b[0m_apicall\u001b[0m\u001b[1;33m(\u001b[0m\u001b[1;34m'Votes.getBillsByStateRecent'\u001b[0m\u001b[1;33m,\u001b[0m \u001b[0mparams\u001b[0m\u001b[1;33m)\u001b[0m\u001b[1;33m\u001b[0m\u001b[0m\n\u001b[0m\u001b[0;32m    638\u001b[0m             \u001b[1;32mreturn\u001b[0m \u001b[0m_result_to_obj\u001b[0m\u001b[1;33m(\u001b[0m\u001b[0mBill\u001b[0m\u001b[1;33m,\u001b[0m \u001b[0mresult\u001b[0m\u001b[1;33m[\u001b[0m\u001b[1;34m'bills'\u001b[0m\u001b[1;33m]\u001b[0m\u001b[1;33m[\u001b[0m\u001b[1;34m'bill'\u001b[0m\u001b[1;33m]\u001b[0m\u001b[1;33m)\u001b[0m\u001b[1;33m\u001b[0m\u001b[0m\n\u001b[0;32m    639\u001b[0m \u001b[1;33m\u001b[0m\u001b[0m\n",
      "\u001b[1;32mE:\\Anaconda\\lib\\site-packages\\votesmart.pyc\u001b[0m in \u001b[0;36m_apicall\u001b[1;34m(func, params)\u001b[0m\n\u001b[0;32m    214\u001b[0m             \u001b[0mobj\u001b[0m \u001b[1;33m=\u001b[0m \u001b[0mjson\u001b[0m\u001b[1;33m.\u001b[0m\u001b[0mloads\u001b[0m\u001b[1;33m(\u001b[0m\u001b[0mresponse\u001b[0m\u001b[1;33m)\u001b[0m\u001b[1;33m\u001b[0m\u001b[0m\n\u001b[0;32m    215\u001b[0m             \u001b[1;32mif\u001b[0m \u001b[1;34m'error'\u001b[0m \u001b[1;32min\u001b[0m \u001b[0mobj\u001b[0m\u001b[1;33m:\u001b[0m\u001b[1;33m\u001b[0m\u001b[0m\n\u001b[1;32m--> 216\u001b[1;33m                 \u001b[1;32mraise\u001b[0m \u001b[0mVotesmartApiError\u001b[0m\u001b[1;33m(\u001b[0m\u001b[0mobj\u001b[0m\u001b[1;33m[\u001b[0m\u001b[1;34m'error'\u001b[0m\u001b[1;33m]\u001b[0m\u001b[1;33m[\u001b[0m\u001b[1;34m'errorMessage'\u001b[0m\u001b[1;33m]\u001b[0m\u001b[1;33m)\u001b[0m\u001b[1;33m\u001b[0m\u001b[0m\n\u001b[0m\u001b[0;32m    217\u001b[0m             \u001b[1;32melse\u001b[0m\u001b[1;33m:\u001b[0m\u001b[1;33m\u001b[0m\u001b[0m\n\u001b[0;32m    218\u001b[0m                 \u001b[1;32mreturn\u001b[0m \u001b[0mobj\u001b[0m\u001b[1;33m\u001b[0m\u001b[0m\n",
      "\u001b[1;31mVotesmartApiError\u001b[0m: Authorization failed"
     ]
    }
   ],
   "source": [
    "votesmart.votes.getBillsByStateRecent()"
   ]
  },
  {
   "cell_type": "code",
   "execution_count": 48,
   "metadata": {
    "collapsed": true
   },
   "outputs": [],
   "source": [
    "mushDataSet = [line.split() for line in open('mushroom.dat').readlines()]"
   ]
  },
  {
   "cell_type": "code",
   "execution_count": 51,
   "metadata": {
    "collapsed": false
   },
   "outputs": [],
   "source": [
    "L,supportData = apriori.apriori(mushDataSet, minSupport=0.3)"
   ]
  },
  {
   "cell_type": "code",
   "execution_count": 52,
   "metadata": {
    "collapsed": false
   },
   "outputs": [
    {
     "name": "stdout",
     "output_type": "stream",
     "text": [
      "frozenset(['2', '59'])\n",
      "frozenset(['39', '2'])\n",
      "frozenset(['2', '67'])\n",
      "frozenset(['2', '34'])\n",
      "frozenset(['2', '23'])\n",
      "frozenset(['2', '86'])\n",
      "frozenset(['76', '2'])\n",
      "frozenset(['90', '2'])\n",
      "frozenset(['2', '53'])\n",
      "frozenset(['93', '2'])\n",
      "frozenset(['63', '2'])\n",
      "frozenset(['2', '28'])\n",
      "frozenset(['2', '85'])\n",
      "frozenset(['2', '36'])\n"
     ]
    }
   ],
   "source": [
    "for item in L[1]:\n",
    "    if item.intersection('2'):\n",
    "        print item"
   ]
  },
  {
   "cell_type": "code",
   "execution_count": 53,
   "metadata": {
    "collapsed": false
   },
   "outputs": [
    {
     "name": "stdout",
     "output_type": "stream",
     "text": [
      "frozenset(['39', '2', '53', '34'])\n",
      "frozenset(['2', '59', '23', '85'])\n",
      "frozenset(['2', '59', '90', '85'])\n",
      "frozenset(['39', '2', '36', '34'])\n",
      "frozenset(['39', '2', '90', '85'])\n",
      "frozenset(['2', '59', '90', '86'])\n",
      "frozenset(['2', '90', '93', '86'])\n",
      "frozenset(['39', '2', '93', '34'])\n",
      "frozenset(['76', '39', '2', '34'])\n",
      "frozenset(['39', '2', '59', '86'])\n",
      "frozenset(['2', '59', '90', '36'])\n",
      "frozenset(['2', '59', '93', '85'])\n",
      "frozenset(['2', '67', '86', '85'])\n",
      "frozenset(['2', '28', '53', '85'])\n",
      "frozenset(['2', '59', '93', '36'])\n",
      "frozenset(['63', '23', '2', '34'])\n",
      "frozenset(['2', '23', '36', '85'])\n",
      "frozenset(['2', '90', '34', '85'])\n",
      "frozenset(['39', '2', '59', '34'])\n",
      "frozenset(['39', '2', '90', '34'])\n",
      "frozenset(['2', '34', '28', '85'])\n",
      "frozenset(['2', '59', '23', '36'])\n",
      "frozenset(['2', '23', '93', '36'])\n",
      "frozenset(['2', '23', '86', '85'])\n",
      "frozenset(['39', '2', '34', '85'])\n",
      "frozenset(['2', '93', '86', '34'])\n",
      "frozenset(['63', '59', '2', '36'])\n",
      "frozenset(['2', '67', '86', '34'])\n",
      "frozenset(['39', '2', '67', '85'])\n",
      "frozenset(['2', '23', '90', '85'])\n",
      "frozenset(['63', '2', '28', '85'])\n",
      "frozenset(['39', '2', '28', '85'])\n",
      "frozenset(['39', '2', '90', '86'])\n",
      "frozenset(['76', '2', '86', '34'])\n",
      "frozenset(['2', '93', '36', '34'])\n",
      "frozenset(['63', '59', '2', '85'])\n",
      "frozenset(['2', '23', '93', '86'])\n",
      "frozenset(['39', '2', '53', '85'])\n",
      "frozenset(['2', '93', '86', '85'])\n",
      "frozenset(['2', '90', '86', '85'])\n",
      "frozenset(['2', '23', '86', '34'])\n",
      "frozenset(['2', '34', '53', '85'])\n",
      "frozenset(['2', '93', '86', '36'])\n",
      "frozenset(['2', '23', '93', '85'])\n",
      "frozenset(['2', '90', '86', '36'])\n",
      "frozenset(['39', '2', '28', '34'])\n",
      "frozenset(['2', '23', '86', '36'])\n",
      "frozenset(['76', '39', '2', '85'])\n",
      "frozenset(['2', '23', '90', '34'])\n",
      "frozenset(['76', '2', '86', '85'])\n",
      "frozenset(['39', '2', '23', '36'])\n",
      "frozenset(['2', '93', '34', '85'])\n",
      "frozenset(['2', '23', '36', '34'])\n",
      "frozenset(['39', '2', '59', '93'])\n",
      "frozenset(['2', '90', '86', '53'])\n",
      "frozenset(['63', '59', '2', '86'])\n",
      "frozenset(['2', '23', '85', '34'])\n",
      "frozenset(['2', '23', '90', '86'])\n",
      "frozenset(['39', '2', '67', '34'])\n",
      "frozenset(['39', '2', '59', '23'])\n",
      "frozenset(['39', '2', '59', '85'])\n",
      "frozenset(['2', '90', '28', '85'])\n",
      "frozenset(['2', '34', '86', '85'])\n",
      "frozenset(['39', '2', '23', '85'])\n",
      "frozenset(['2', '90', '86', '34'])\n",
      "frozenset(['2', '86', '36', '85'])\n",
      "frozenset(['39', '2', '59', '36'])\n",
      "frozenset(['39', '2', '93', '36'])\n",
      "frozenset(['2', '59', '90', '34'])\n",
      "frozenset(['2', '90', '93', '36'])\n",
      "frozenset(['39', '2', '93', '86'])\n",
      "frozenset(['39', '2', '93', '85'])\n",
      "frozenset(['2', '86', '53', '85'])\n",
      "frozenset(['63', '2', '86', '36'])\n",
      "frozenset(['2', '39', '63', '90'])\n",
      "frozenset(['76', '2', '85', '34'])\n",
      "frozenset(['2', '90', '93', '85'])\n",
      "frozenset(['39', '2', '90', '53'])\n",
      "frozenset(['2', '23', '90', '93'])\n",
      "frozenset(['2', '59', '86', '28'])\n",
      "frozenset(['2', '59', '23', '90'])\n",
      "frozenset(['39', '2', '28', '86'])\n",
      "frozenset(['63', '2', '86', '85'])\n",
      "frozenset(['2', '86', '36', '34'])\n",
      "frozenset(['39', '2', '23', '86'])\n",
      "frozenset(['63', '2', '28', '34'])\n",
      "frozenset(['2', '59', '23', '34'])\n",
      "frozenset(['2', '59', '85', '34'])\n",
      "frozenset(['39', '2', '86', '53'])\n",
      "frozenset(['63', '2', '85', '34'])\n",
      "frozenset(['76', '39', '2', '86'])\n",
      "frozenset(['39', '2', '67', '86'])\n",
      "frozenset(['63', '59', '2', '34'])\n",
      "frozenset(['2', '59', '36', '85'])\n",
      "frozenset(['86', '63', '2', '28'])\n",
      "frozenset(['39', '2', '28', '53'])\n",
      "frozenset(['39', '2', '36', '85'])\n",
      "frozenset(['2', '23', '93', '34'])\n",
      "frozenset(['63', '23', '2', '85'])\n",
      "frozenset(['2', '28', '53', '34'])\n",
      "frozenset(['2', '85', '36', '34'])\n",
      "frozenset(['39', '2', '90', '93'])\n",
      "frozenset(['39', '2', '59', '90'])\n",
      "frozenset(['39', '2', '59', '28'])\n",
      "frozenset(['63', '59', '23', '2'])\n",
      "frozenset(['2', '90', '53', '34'])\n",
      "frozenset(['2', '59', '36', '34'])\n",
      "frozenset(['2', '86', '53', '34'])\n",
      "frozenset(['2', '59', '90', '28'])\n",
      "frozenset(['2', '63', '90', '93'])\n",
      "frozenset(['2', '90', '28', '53'])\n",
      "frozenset(['39', '2', '86', '85'])\n",
      "frozenset(['2', '90', '36', '85'])\n",
      "frozenset(['2', '90', '86', '28'])\n",
      "frozenset(['63', '23', '2', '86'])\n",
      "frozenset(['63', '2', '36', '34'])\n",
      "frozenset(['2', '59', '23', '93'])\n",
      "frozenset(['2', '59', '93', '86'])\n",
      "frozenset(['39', '2', '86', '36'])\n",
      "frozenset(['2', '90', '53', '85'])\n",
      "frozenset(['63', '2', '86', '34'])\n",
      "frozenset(['63', '23', '2', '36'])\n",
      "frozenset(['2', '93', '36', '85'])\n",
      "frozenset(['2', '59', '93', '34'])\n",
      "frozenset(['2', '90', '93', '34'])\n",
      "frozenset(['63', '2', '36', '85'])\n",
      "frozenset(['2', '67', '34', '85'])\n",
      "frozenset(['39', '2', '23', '93'])\n",
      "frozenset(['39', '2', '90', '36'])\n",
      "frozenset(['2', '90', '28', '34'])\n",
      "frozenset(['39', '2', '86', '34'])\n",
      "frozenset(['2', '90', '36', '34'])\n",
      "frozenset(['39', '2', '23', '34'])\n",
      "frozenset(['39', '2', '90', '28'])\n",
      "frozenset(['2', '59', '90', '93'])\n",
      "frozenset(['63', '59', '2', '28'])\n"
     ]
    }
   ],
   "source": [
    "for item in L[3]:\n",
    "    if item.intersection('2'):\n",
    "        print item"
   ]
  },
  {
   "cell_type": "code",
   "execution_count": null,
   "metadata": {
    "collapsed": true
   },
   "outputs": [],
   "source": []
  }
 ],
 "metadata": {
  "kernelspec": {
   "display_name": "Python 2",
   "language": "python",
   "name": "python2"
  },
  "language_info": {
   "codemirror_mode": {
    "name": "ipython",
    "version": 2
   },
   "file_extension": ".py",
   "mimetype": "text/x-python",
   "name": "python",
   "nbconvert_exporter": "python",
   "pygments_lexer": "ipython2",
   "version": "2.7.13"
  }
 },
 "nbformat": 4,
 "nbformat_minor": 2
}
